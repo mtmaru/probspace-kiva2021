{
 "cells": [
  {
   "cell_type": "markdown",
   "id": "97d22a07",
   "metadata": {},
   "source": [
    "# アンサンブルと予測結果の補正"
   ]
  },
  {
   "cell_type": "markdown",
   "id": "3a6f2fb2",
   "metadata": {},
   "source": [
    "---"
   ]
  },
  {
   "cell_type": "markdown",
   "id": "786fd24f",
   "metadata": {},
   "source": [
    "## セットアップ"
   ]
  },
  {
   "cell_type": "markdown",
   "id": "69857afc",
   "metadata": {},
   "source": [
    "### モジュールの読み込み"
   ]
  },
  {
   "cell_type": "code",
   "execution_count": 1,
   "id": "9cf72a04",
   "metadata": {},
   "outputs": [],
   "source": [
    "import numpy as np\n",
    "import pandas as pd\n",
    "from tqdm import tqdm\n",
    "from pathlib import Path\n",
    "from matplotlib import pyplot as plt"
   ]
  },
  {
   "cell_type": "markdown",
   "id": "d567800f",
   "metadata": {},
   "source": [
    "### データの読み込み"
   ]
  },
  {
   "cell_type": "code",
   "execution_count": 2,
   "id": "7d8fecb0",
   "metadata": {},
   "outputs": [],
   "source": [
    "train = pd.read_csv(\"data/train.csv\")\n",
    "test = pd.read_csv(\"data/test.csv\")\n",
    "traintest = pd.concat([train, test], ignore_index = True)"
   ]
  },
  {
   "cell_type": "markdown",
   "id": "84a8a55e",
   "metadata": {},
   "source": [
    "---"
   ]
  },
  {
   "cell_type": "markdown",
   "id": "bdab6f3f",
   "metadata": {},
   "source": [
    "## アンサンブル"
   ]
  },
  {
   "cell_type": "code",
   "execution_count": 3,
   "id": "fc39f829",
   "metadata": {},
   "outputs": [
    {
     "name": "stdout",
     "output_type": "stream",
     "text": [
      "submit/maruyama_20220213_02_epoch10.csv\n",
      "submit/maruyama_20220213_02_epoch09.csv\n",
      "submit/maruyama_20220213_02_epoch08.csv\n",
      "submit/maruyama_20220213_01_epoch10.csv\n",
      "submit/maruyama_20220213_01_epoch09.csv\n",
      "submit/maruyama_20220213_01_epoch08.csv\n",
      "submit/maruyama_20220205_01.csv\n",
      "submit/maruyama_20220123_01.csv\n",
      "submit/maruyama_20220118_01.csv\n",
      "submit/maruyama_20220116_02.csv\n",
      "submit/maruyama_20220116_01.csv\n",
      "submit/maruyama_20220108_02.csv\n",
      "submit/maruyama_20220105_01.csv\n",
      "submit/maruyama_20220104_01.csv\n",
      "submit/maruyama_20220103_01.csv\n",
      "submit/maruyama_20220101_01.csv\n"
     ]
    }
   ],
   "source": [
    "submit = pd.read_csv(\"data/sample_submission.csv\")\n",
    "submit[\"LOAN_AMOUNT\"] = 0\n",
    "count = 0\n",
    "for path in [\n",
    "    \"submit/maruyama_20220213_02_epoch10.csv\",\n",
    "    \"submit/maruyama_20220213_02_epoch09.csv\",\n",
    "    \"submit/maruyama_20220213_02_epoch08.csv\",\n",
    "    \"submit/maruyama_20220213_01_epoch10.csv\",\n",
    "    \"submit/maruyama_20220213_01_epoch09.csv\",\n",
    "    \"submit/maruyama_20220213_01_epoch08.csv\",\n",
    "    \"submit/maruyama_20220205_01.csv\",\n",
    "    \"submit/maruyama_20220123_01.csv\",\n",
    "    \"submit/maruyama_20220118_01.csv\",\n",
    "    \"submit/maruyama_20220116_02.csv\",\n",
    "    \"submit/maruyama_20220116_01.csv\",\n",
    "    \"submit/maruyama_20220108_02.csv\",\n",
    "    \"submit/maruyama_20220105_01.csv\",\n",
    "    \"submit/maruyama_20220104_01.csv\",\n",
    "    \"submit/maruyama_20220103_01.csv\",\n",
    "    \"submit/maruyama_20220101_01.csv\",\n",
    "]:\n",
    "    print(path)\n",
    "    submit_ = pd.read_csv(path)\n",
    "    submit[\"LOAN_AMOUNT\"] = submit[\"LOAN_AMOUNT\"] + submit_[\"LOAN_AMOUNT\"]\n",
    "    count = count + 1\n",
    "submit[\"LOAN_AMOUNT\"] = submit[\"LOAN_AMOUNT\"] / count"
   ]
  },
  {
   "cell_type": "markdown",
   "id": "b62a13a4",
   "metadata": {},
   "source": [
    "---"
   ]
  },
  {
   "cell_type": "markdown",
   "id": "c1bd1e79",
   "metadata": {},
   "source": [
    "## 予測結果の補正\n",
    "\n",
    "説明に希望金額が書かれている場合、予測結果をドル換算した希望金額に書き換える。"
   ]
  },
  {
   "cell_type": "markdown",
   "id": "0baa201a",
   "metadata": {},
   "source": [
    "### 希望金額の抽出"
   ]
  },
  {
   "cell_type": "code",
   "execution_count": 4,
   "id": "7748a9d2",
   "metadata": {},
   "outputs": [],
   "source": [
    "# 説明から希望金額を抽出する\n",
    "def extract(data, currency_list):\n",
    "    # 説明が欠損していたら、翻訳前の説明で埋める\n",
    "    data.loc[lambda df: df[\"DESCRIPTION_TRANSLATED\"].isna(), \"DESCRIPTION_TRANSLATED\"] = data.loc[lambda df: df[\"DESCRIPTION_TRANSLATED\"].isna(), \"DESCRIPTION\"]\n",
    "\n",
    "    # 文に分割する\n",
    "    sentences = (\n",
    "        data.\n",
    "        set_index([\"LOAN_ID\", \"CURRENCY\"])[\"DESCRIPTION_TRANSLATED\"].\n",
    "        str.replace(\"<br />\", \" \", regex = False).\n",
    "        str.split(r\"\\. \").explode()\n",
    "    )\n",
    "    sentences = sentences + \" \"\n",
    "\n",
    "    # 通貨ごとに、説明から希望金額を抽出する\n",
    "    local = []\n",
    "    for currency in tqdm(currency_list):\n",
    "        local.append(\n",
    "            sentences.\n",
    "            loc[lambda s: s.str.contains(currency)].\n",
    "            str.extractall(\n",
    "                f\"{currency} ?\" + r\"([0-9]{1,3} ?, ?[0-9]{3} ?, ?[0-9]{3}) |\" +\n",
    "                f\"{currency} ?\" + r\"([0-9]{1,3} ?, ?[0-9]{3}) |\" +\n",
    "                f\"{currency} ?\" + r\"([0-9]{1,9}) |\" +\n",
    "                f\"{currency} ?\" + r\"([0-9]{1,3} ?, ?[0-9]{3} ?, ?[0-9]{3}\\.[0-9]{2}) |\" +\n",
    "                f\"{currency} ?\" + r\"([0-9]{1,3} ?, ?[0-9]{3}\\.[0-9]{2}) |\" +\n",
    "                f\"{currency} ?\" + r\"([0-9]{1,9}\\.[0-9]{2}) |\" +\n",
    "                r\" ([0-9]{1,3} ?, ?[0-9]{3} ?, ?[0-9]{3})\" + f\" ?{currency}|\" +\n",
    "                r\" ([0-9]{1,3} ?, ?[0-9]{3})\" + f\" ?{currency}|\" +\n",
    "                r\" ([0-9]{1,9})\" + f\" ?{currency}|\" +\n",
    "                r\" ([0-9]{1,3} ?, ?[0-9]{3} ?, ?[0-9]{3}\\.[0-9]{2})\" + f\" ?{currency}|\" +\n",
    "                r\" ([0-9]{1,3} ?, ?[0-9]{3}\\.[0-9]{2})\" + f\" ?{currency}|\" +\n",
    "                r\" ([0-9]{1,9}\\.[0-9]{2})\" + f\" ?{currency}\"\n",
    "            ).stack().\n",
    "            str.replace(r\"[, ]\", \"\", regex = True).\n",
    "            astype(float).\n",
    "            groupby([\"LOAN_ID\", \"CURRENCY\"]).max().\n",
    "            rename(\"LOAN_AMOUNT_LOCAL\").\n",
    "            reset_index().\n",
    "            loc[lambda df: df[\"CURRENCY\"] == currency, :].copy()\n",
    "        )\n",
    "    local = pd.concat(local)\n",
    "    local = data[[\"LOAN_ID\", \"CURRENCY\"]].merge(local, how = \"left\", on = [\"LOAN_ID\", \"CURRENCY\"])\n",
    "\n",
    "    return local"
   ]
  },
  {
   "cell_type": "code",
   "execution_count": 5,
   "id": "c7357587",
   "metadata": {},
   "outputs": [
    {
     "name": "stderr",
     "output_type": "stream",
     "text": [
      "100%|██████████| 51/51 [00:20<00:00,  2.46it/s]\n",
      "100%|██████████| 51/51 [00:20<00:00,  2.48it/s]\n"
     ]
    }
   ],
   "source": [
    "currency_list = traintest[\"CURRENCY\"].unique()\n",
    "train_local = extract(train, currency_list)\n",
    "test_local = extract(test, currency_list)"
   ]
  },
  {
   "cell_type": "markdown",
   "id": "0b6686f7",
   "metadata": {},
   "source": [
    "### 希望金額のドル換算"
   ]
  },
  {
   "cell_type": "code",
   "execution_count": 6,
   "id": "192620e6",
   "metadata": {},
   "outputs": [],
   "source": [
    "# ドルに換算する\n",
    "def convert_usd(train_local, test_local, train):\n",
    "    # 希望金額 (現地通貨) と融資額 (ドル) の比を取ることで、為替レートを求める\n",
    "    rate = (\n",
    "        train_local.\n",
    "        merge(train[[\"LOAN_ID\", \"LOAN_AMOUNT\"]], how = \"left\", on = \"LOAN_ID\").\n",
    "        assign(rate = lambda df: df[\"LOAN_AMOUNT_LOCAL\"] / df[\"LOAN_AMOUNT\"]).\n",
    "        loc[lambda df: df[\"LOAN_ID\"] > 1800000, :].  # テスト期間に近い為替レートを得るために、できるだけ最近のデータに絞る\n",
    "        groupby([\"CURRENCY\"])[\"rate\"].median()\n",
    "    )\n",
    "\n",
    "    # ドルに換算する\n",
    "    train_local = (\n",
    "        train_local.\n",
    "        merge(rate, how = \"left\", on = \"CURRENCY\").\n",
    "        assign(LOAN_AMOUNT_DESC = lambda df: df[\"LOAN_AMOUNT_LOCAL\"] / df[\"rate\"])\n",
    "        [[\"LOAN_ID\", \"LOAN_AMOUNT_DESC\"]].copy()\n",
    "    )\n",
    "    test_local = (\n",
    "        test_local.\n",
    "        merge(rate, how = \"left\", on = \"CURRENCY\").\n",
    "        assign(LOAN_AMOUNT_DESC = lambda df: df[\"LOAN_AMOUNT_LOCAL\"] / df[\"rate\"])\n",
    "        [[\"LOAN_ID\", \"LOAN_AMOUNT_DESC\"]].copy()\n",
    "    )\n",
    "\n",
    "    return train_local, test_local"
   ]
  },
  {
   "cell_type": "code",
   "execution_count": 7,
   "id": "2b37ee6b",
   "metadata": {},
   "outputs": [],
   "source": [
    "train_local, test_local = convert_usd(train_local, test_local, train)"
   ]
  },
  {
   "cell_type": "markdown",
   "id": "7074faf6",
   "metadata": {},
   "source": [
    "### 予測結果の補正"
   ]
  },
  {
   "cell_type": "code",
   "execution_count": 8,
   "id": "96617a72",
   "metadata": {},
   "outputs": [],
   "source": [
    "submit2 = (\n",
    "    submit.\n",
    "    merge(test[[\"LOAN_ID\", \"CURRENCY\"]], how = \"left\", on = \"LOAN_ID\").\n",
    "    merge(test_local, how = \"left\", on = \"LOAN_ID\")\n",
    ")\n",
    "submit2[\"LOAN_AMOUNT_DESC\"] = submit2[\"LOAN_AMOUNT_DESC\"].where(submit2[\"CURRENCY\"].isin([\"PHP\", \"KES\", \"UGX\", \"INR\", \"PKR\", \"KGS\", \"IDR\", \"TJS\", \"KHR\", \"JOD\", \"HNL\", \"USD\"]))\n",
    "submit2[\"LOAN_AMOUNT_CORECCTED\"] = submit2[\"LOAN_AMOUNT_DESC\"].mask(submit2[\"LOAN_AMOUNT_DESC\"].isna(), submit2[\"LOAN_AMOUNT\"])\n",
    "submit2 = submit2[[\"LOAN_ID\", \"LOAN_AMOUNT_CORECCTED\"]].rename(columns = { \"LOAN_AMOUNT_CORECCTED\": \"LOAN_AMOUNT\" })"
   ]
  },
  {
   "cell_type": "code",
   "execution_count": 9,
   "id": "5e4a4b95",
   "metadata": {},
   "outputs": [],
   "source": [
    "submit2.to_csv(\"submit/maruyama_20220213_03.csv\", index = False, header = True)"
   ]
  }
 ],
 "metadata": {
  "kernelspec": {
   "display_name": "Python 3",
   "language": "python",
   "name": "python3"
  },
  "language_info": {
   "codemirror_mode": {
    "name": "ipython",
    "version": 3
   },
   "file_extension": ".py",
   "mimetype": "text/x-python",
   "name": "python",
   "nbconvert_exporter": "python",
   "pygments_lexer": "ipython3",
   "version": "3.8.8"
  }
 },
 "nbformat": 4,
 "nbformat_minor": 5
}
